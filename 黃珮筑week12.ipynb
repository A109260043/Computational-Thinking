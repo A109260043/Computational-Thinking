{
  "nbformat": 4,
  "nbformat_minor": 0,
  "metadata": {
    "colab": {
      "name": "黃珮筑week12.ipynb",
      "provenance": [],
      "authorship_tag": "ABX9TyONvrqFQ96ogg30qOz6Axuw",
      "include_colab_link": true
    },
    "kernelspec": {
      "name": "python3",
      "display_name": "Python 3"
    }
  },
  "cells": [
    {
      "cell_type": "markdown",
      "metadata": {
        "id": "view-in-github",
        "colab_type": "text"
      },
      "source": [
        "<a href=\"https://colab.research.google.com/github/A109260043/Computational-Thinking/blob/master/%E9%BB%83%E7%8F%AE%E7%AD%91week12.ipynb\" target=\"_parent\"><img src=\"https://colab.research.google.com/assets/colab-badge.svg\" alt=\"Open In Colab\"/></a>"
      ]
    },
    {
      "cell_type": "markdown",
      "metadata": {
        "id": "eaRoNTQpeTIt"
      },
      "source": [
        "隨堂練習1:購物清單\n",
        "試著用串列列出你最喜愛的五樣東西，當成購物清單(shopping list)\n"
      ]
    },
    {
      "cell_type": "code",
      "metadata": {
        "colab": {
          "base_uri": "https://localhost:8080/"
        },
        "id": "oxC2IQoKefFu",
        "outputId": "a0c17c62-3a78-4c80-f3f8-7853e104bd95"
      },
      "source": [
        ">>> shopping_list = ['牛奶', '蛋', '咖啡豆', '西瓜', '鳳梨']\n",
        ">>> print(shopping_list)\n",
        "\n",
        "##索引\n",
        ">>> print(shopping_list[0]) # 取第0個項目\n",
        "\n",
        "##變更\n",
        ">>> shopping_list[1] = '皮蛋' #更變第一個項目\n",
        ">>> print(shopping_list)\n",
        "\n",
        "##切片\n",
        ">>> print(shopping_list[1:3]) #取1,2兩個項目"
      ],
      "execution_count": 4,
      "outputs": [
        {
          "output_type": "stream",
          "text": [
            "['牛奶', '蛋', '咖啡豆', '西瓜', '鳳梨']\n",
            "牛奶\n",
            "['牛奶', '皮蛋', '咖啡豆', '西瓜', '鳳梨']\n",
            "['皮蛋', '咖啡豆']\n"
          ],
          "name": "stdout"
        }
      ]
    }
  ]
}