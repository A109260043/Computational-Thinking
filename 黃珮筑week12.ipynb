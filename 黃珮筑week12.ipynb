{
  "nbformat": 4,
  "nbformat_minor": 0,
  "metadata": {
    "colab": {
      "name": "黃珮筑week12.ipynb",
      "provenance": [],
      "authorship_tag": "ABX9TyOKyM0l+MtWdSPIFzX2Yr2W",
      "include_colab_link": true
    },
    "kernelspec": {
      "name": "python3",
      "display_name": "Python 3"
    }
  },
  "cells": [
    {
      "cell_type": "markdown",
      "metadata": {
        "id": "view-in-github",
        "colab_type": "text"
      },
      "source": [
        "<a href=\"https://colab.research.google.com/github/A109260043/Computational-Thinking/blob/master/%E9%BB%83%E7%8F%AE%E7%AD%91week12.ipynb\" target=\"_parent\"><img src=\"https://colab.research.google.com/assets/colab-badge.svg\" alt=\"Open In Colab\"/></a>"
      ]
    },
    {
      "cell_type": "markdown",
      "metadata": {
        "id": "cKc4JejAn57V"
      },
      "source": [
        "隨堂練習2:棒球!"
      ]
    },
    {
      "cell_type": "code",
      "metadata": {
        "colab": {
          "base_uri": "https://localhost:8080/"
        },
        "id": "FFr8m96iiMqO",
        "outputId": "5372c269-599b-4d3c-eee0-12f6ab60d489"
      },
      "source": [
        "#NBA冠軍球隊的六筆資訊\n",
        ">>> season = \"1995-1996\"\n",
        ">>> team = \"Chicago Bulls\"\n",
        ">>> coach = \"Phil Jackson\"\n",
        ">>> record = [72, 10]\n",
        ">>> starting = [\"Ron Harper\", \"Michael Jordan\", \"Scottie Pippen\", \"Dennis Rodman\", \"Luc Longley\"]\n",
        ">>> champion = True\n",
        "\n",
        "#變數best_NBA 賦值串列\n",
        ">>> best_NBA = list((season, team, coach, starting, champion))\n",
        "#TypeError: list expected at most 1 arguments, got 6\n",
        ">>> print(best_NBA)\n",
        ">>> print(type(best_NBA))\n",
        "\n",
        "# indexing 索引\n",
        ">>> print(best_NBA[-2])\n",
        "# slicing 切片\n",
        ">>> print(best_NBA[0:3])"
      ],
      "execution_count": 11,
      "outputs": [
        {
          "output_type": "stream",
          "text": [
            "['1995-1996', 'Chicago Bulls', 'Phil Jackson', ['Ron Harper', 'Michael Jordan', 'Scottie Pippen', 'Dennis Rodman', 'Luc Longley'], True]\n",
            "<class 'list'>\n",
            "['Ron Harper', 'Michael Jordan', 'Scottie Pippen', 'Dennis Rodman', 'Luc Longley']\n",
            "['1995-1996', 'Chicago Bulls', 'Phil Jackson']\n"
          ],
          "name": "stdout"
        }
      ]
    }
  ]
}