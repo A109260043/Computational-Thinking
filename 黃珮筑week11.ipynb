{
  "nbformat": 4,
  "nbformat_minor": 0,
  "metadata": {
    "colab": {
      "name": ".ipynb",
      "provenance": [],
      "authorship_tag": "ABX9TyNlSzelgJhQMyvAOzhRxd7s",
      "include_colab_link": true
    },
    "kernelspec": {
      "name": "python3",
      "display_name": "Python 3"
    }
  },
  "cells": [
    {
      "cell_type": "markdown",
      "metadata": {
        "id": "view-in-github",
        "colab_type": "text"
      },
      "source": [
        "<a href=\"https://colab.research.google.com/github/A109260043/Computational-Thinking/blob/master/%E9%BB%83%E7%8F%AE%E7%AD%91week11.ipynb\" target=\"_parent\"><img src=\"https://colab.research.google.com/assets/colab-badge.svg\" alt=\"Open In Colab\"/></a>"
      ]
    },
    {
      "cell_type": "code",
      "metadata": {
        "colab": {
          "base_uri": "https://localhost:8080/"
        },
        "id": "e9oqkly5m1wt",
        "outputId": "c3602e08-d6f8-4bf1-b70b-0d6e913d9b67"
      },
      "source": [
        "# get your information\n",
        "year = input('I am not very good at dates. What \\\n",
        " is the year?: ')\n",
        "print('Yes, I think that is correct. Thanks! ')"
      ],
      "execution_count": 15,
      "outputs": [
        {
          "output_type": "stream",
          "text": [
            "I am not very good at dates. What  is the year?: 10\n",
            "Yes, I think that is correct. Thanks! \n"
          ],
          "name": "stdout"
        }
      ]
    },
    {
      "cell_type": "code",
      "metadata": {
        "colab": {
          "base_uri": "https://localhost:8080/"
        },
        "id": "Yhm5wsyVr6H5",
        "outputId": "a7309dc6-f909-41b0-f3c8-8534ea862def"
      },
      "source": [
        "# conversation about feelings\n",
        "feeling = input('how are you feelings today?: ')\n",
        "print('why are you feeling', feeling, 'now?')\n",
        "reason = input('please tell me: ')\n",
        "print('i understand. thanks for sharing')"
      ],
      "execution_count": 18,
      "outputs": [
        {
          "output_type": "stream",
          "text": [
            "how are you feelings today?: 0\n",
            "why are you feeling 0 now?\n",
            "please tell me: 0\n",
            "i understand. thanks for sharing\n"
          ],
          "name": "stdout"
        }
      ]
    },
    {
      "cell_type": "code",
      "metadata": {
        "colab": {
          "base_uri": "https://localhost:8080/"
        },
        "id": "N8JPCiJ2rXlN",
        "outputId": "919407bf-2156-485d-9f09-8537feff599a"
      },
      "source": [
        "# ask user to guess age\n",
        "myage = input('Can you guess my age? - enter a \\ number: ')\n",
        "print('Yes you are right. I am',myage)"
      ],
      "execution_count": 19,
      "outputs": [
        {
          "output_type": "stream",
          "text": [
            "Can you guess my age? - enter a \\ number: 11\n",
            "Yes you are right. I am 11\n"
          ],
          "name": "stdout"
        }
      ]
    }
  ]
}