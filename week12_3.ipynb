{
  "nbformat": 4,
  "nbformat_minor": 0,
  "metadata": {
    "colab": {
      "name": "week12-3.ipynb",
      "provenance": [],
      "authorship_tag": "ABX9TyOh9se3D0THuCv/cZsto+uS",
      "include_colab_link": true
    },
    "kernelspec": {
      "name": "python3",
      "display_name": "Python 3"
    }
  },
  "cells": [
    {
      "cell_type": "markdown",
      "metadata": {
        "id": "view-in-github",
        "colab_type": "text"
      },
      "source": [
        "<a href=\"https://colab.research.google.com/github/A109260043/Computational-Thinking/blob/master/week12_3.ipynb\" target=\"_parent\"><img src=\"https://colab.research.google.com/assets/colab-badge.svg\" alt=\"Open In Colab\"/></a>"
      ]
    },
    {
      "cell_type": "code",
      "metadata": {
        "colab": {
          "base_uri": "https://localhost:8080/"
        },
        "id": "jioAEXOIxiYz",
        "outputId": "aeb8b9cb-9092-438e-9ffa-14d99e685273"
      },
      "source": [
        "#[0,1,2,3,4,5,6,7,8,9]\r\n",
        "a=range(0, 10 ,1)\r\n",
        "print(a[0],a[1],a[2],a[3],a[4],a[5],a[6],a[7],a[8],a[9])\r\n",
        "#[0,2,4,6,8,]\r\n",
        "b=range(0,9,2)\r\n",
        "print(b[0],b[1],b[2],b[3],b[4])\r\n",
        "#[5,7,9]\r\n",
        "c=range(5,10,2)\r\n",
        "print(c[0],c[1],c[2])\r\n",
        "#[0,-1,-2,-3,-4,-5,-6,-7,-8,-9]\r\n",
        "d=range(0,-10,-1)\r\n",
        "print(d[0],d[1],d[2],d[3],d[4],d[5],d[6],d[7],d[8],d[9])\r\n",
        "project_title='尚未決定'\r\n",
        "name_list=''\r\n",
        "number_list=''\r\n",
        "duty_list=''\r\n",
        "load_list=''"
      ],
      "execution_count": 1,
      "outputs": [
        {
          "output_type": "stream",
          "text": [
            "0 1 2 3 4 5 6 7 8 9\n",
            "0 2 4 6 8\n",
            "5 7 9\n",
            "0 -1 -2 -3 -4 -5 -6 -7 -8 -9\n"
          ],
          "name": "stdout"
        }
      ]
    }
  ]
}