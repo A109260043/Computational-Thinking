{
  "nbformat": 4,
  "nbformat_minor": 0,
  "metadata": {
    "colab": {
      "name": "Untitled5.ipynb",
      "provenance": [],
      "authorship_tag": "ABX9TyPWQZacsfT9K7t0DqG5/fP9",
      "include_colab_link": true
    },
    "kernelspec": {
      "name": "python3",
      "display_name": "Python 3"
    }
  },
  "cells": [
    {
      "cell_type": "markdown",
      "metadata": {
        "id": "view-in-github",
        "colab_type": "text"
      },
      "source": [
        "<a href=\"https://colab.research.google.com/github/A109260043/Computational-Thinking/blob/master/Untitled5.ipynb\" target=\"_parent\"><img src=\"https://colab.research.google.com/assets/colab-badge.svg\" alt=\"Open In Colab\"/></a>"
      ]
    },
    {
      "cell_type": "code",
      "metadata": {
        "id": "FFfPE630vWTP",
        "outputId": "533532d2-889d-4845-fa91-03f73051d7d1",
        "colab": {
          "base_uri": "https://localhost:8080/"
        }
      },
      "source": [
        "cloth = int(input('please enter the quantity of the clothes'))\n",
        "trousers = int(input('please enter the quantity of the trousers'))\n",
        "vest = int(input('please enter the quantity of the vest'))\n",
        "\n",
        "total = cloth*300 + trousers*350 +vest*400\n",
        "print('the total price of the clothes',total )"
      ],
      "execution_count": 1,
      "outputs": [
        {
          "output_type": "stream",
          "text": [
            "please enter the quantity of the clothes2\n",
            "please enter the quantity of the trousers4\n",
            "please enter the quantity of the vest5\n",
            "the total price of the clothes 4000\n"
          ],
          "name": "stdout"
        }
      ]
    },
    {
      "cell_type": "code",
      "metadata": {
        "id": "ALDAbhkGxKPV",
        "outputId": "be85d333-be72-410c-d6c8-8470363075c1",
        "colab": {
          "base_uri": "https://localhost:8080/"
        }
      },
      "source": [
        "cans = int(input('please enter the quantity of cans you want'))\n",
        "\n",
        "total = (cans //12)*200 + (cans%12)*20\n",
        "\n",
        "print('the price is' , total)"
      ],
      "execution_count": 2,
      "outputs": [
        {
          "output_type": "stream",
          "text": [
            "please enter the quantity of cans you want4\n",
            "the price is 80\n"
          ],
          "name": "stdout"
        }
      ]
    },
    {
      "cell_type": "code",
      "metadata": {
        "id": "-KiKn7b_x7dY",
        "outputId": "d331c531-3714-4b1e-efc6-d33fc5ba1a8e",
        "colab": {
          "base_uri": "https://localhost:8080/"
        }
      },
      "source": [
        "fir = int(input('please enter the first exam score'))\n",
        "sec = int(input('please enter your midterm score'))\n",
        "final = int(input('please enter final score'))\n",
        "total = fir + sec + final\n",
        "print('total score', total)\n",
        "average = total/3\n",
        "print('average score', average)"
      ],
      "execution_count": 3,
      "outputs": [
        {
          "output_type": "stream",
          "text": [
            "please enter the first exam score20\n",
            "please enter your midterm score40\n",
            "please enter final score60\n",
            "total score 120\n",
            "average score 40.0\n"
          ],
          "name": "stdout"
        }
      ]
    }
  ]
}